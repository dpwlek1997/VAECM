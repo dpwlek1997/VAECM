{
 "cells": [
  {
   "cell_type": "code",
   "execution_count": 19,
   "id": "89cb970f-ee48-46cb-b356-1f65cd59de1c",
   "metadata": {},
   "outputs": [],
   "source": [
    "import os\n",
    "import numpy as np\n",
    "from sklearn.preprocessing import StandardScaler\n",
    "import pandas as pd\n",
    "\n",
    "import json\n",
    "with open(\"resclusts.json\") as f:\n",
    "    resclusts = json.load(f)\n",
    "\n",
    "#ex = pd.read_csv(\"./example_resid.csv\", index_col=0)  # removed the row index\n",
    "ex = pd.DataFrame(resclusts['Sim1'])\n",
    "ex[\"DiseaseState\"] = ex[\"DiseaseState\"].replace(\"D\",'', regex=True)\n",
    "ex['DiseaseState'] = pd.to_numeric(ex['DiseaseState']) \n",
    "ex['DiseaseState'] = ex['DiseaseState'] - 1 \n",
    "\n",
    "scaler = StandardScaler()\n",
    "x = scaler.fit_transform(ex.drop(columns=[\"DiseaseState\",\"Cohort\",\"DisCoh\"]))\n",
    "y = ex['DiseaseState'].to_numpy()\n",
    "x_train = x[:-200]\n",
    "y_train = y[:-200]\n",
    "x_test = x[-200:]\n",
    "y_test = y[-200:]\n",
    "\n",
    "s = (x_train.shape, x_test.shape)\n",
    "#np.savez('~/clusteringModule/data/ex1.npz',x=x,y=y,s=s)\n",
    "np.savez('./data/EX1.npz',x=x,y=y,s=s)\n",
    "try:\n",
    "    os.mkdir('EX1')   \n",
    "    os.mkdir('EX1/save')\n",
    "except FileExistsError:\n",
    "    pass"
   ]
  },
  {
   "cell_type": "code",
   "execution_count": 15,
   "id": "b0dd17b3-6d78-452f-bbd7-d14de7e9df05",
   "metadata": {},
   "outputs": [
    {
     "data": {
      "text/plain": [
       "'/gpfs/home/dday/clusteringModule/MyCode'"
      ]
     },
     "execution_count": 15,
     "metadata": {},
     "output_type": "execute_result"
    }
   ],
   "source": [
    "os.getcwd()\n"
   ]
  },
  {
   "cell_type": "code",
   "execution_count": null,
   "id": "b736ccea-5863-40a7-b103-ce714f684970",
   "metadata": {},
   "outputs": [],
   "source": []
  }
 ],
 "metadata": {
  "kernelspec": {
   "display_name": "Python 3",
   "language": "python",
   "name": "python3"
  },
  "language_info": {
   "codemirror_mode": {
    "name": "ipython",
    "version": 3
   },
   "file_extension": ".py",
   "mimetype": "text/x-python",
   "name": "python",
   "nbconvert_exporter": "python",
   "pygments_lexer": "ipython3",
   "version": "3.10.5"
  }
 },
 "nbformat": 4,
 "nbformat_minor": 5
}
